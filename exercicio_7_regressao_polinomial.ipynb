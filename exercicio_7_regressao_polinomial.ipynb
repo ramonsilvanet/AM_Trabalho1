{
 "cells": [
  {
   "cell_type": "markdown",
   "metadata": {},
   "source": [
    "# Regressão Polinomial"
   ]
  },
  {
   "cell_type": "code",
   "execution_count": 1,
   "metadata": {
    "collapsed": true
   },
   "outputs": [],
   "source": [
    "import scipy.io as spio\n",
    "import numpy as np  \n",
    "import matplotlib.pyplot as plt\n",
    "import pandas as pd \n",
    "\n",
    "from scipy.optimize import minimize\n",
    "from sklearn.linear_model import LinearRegression, Ridge\n",
    "from sklearn.preprocessing import PolynomialFeatures\n",
    "\n",
    "from aprendizado_maquina import regressao_linear as rl\n",
    "%matplotlib inline"
   ]
  },
  {
   "cell_type": "code",
   "execution_count": 2,
   "metadata": {},
   "outputs": [
    {
     "data": {
      "text/plain": [
       "dict_keys(['__header__', '__version__', '__globals__', 'X', 'y', 'Xtest', 'ytest', 'Xval', 'yval'])"
      ]
     },
     "execution_count": 2,
     "metadata": {},
     "output_type": "execute_result"
    }
   ],
   "source": [
    "data = spio.loadmat('data/ex5data1.mat')\n",
    "data.keys()"
   ]
  },
  {
   "cell_type": "code",
   "execution_count": 3,
   "metadata": {},
   "outputs": [
    {
     "name": "stdout",
     "output_type": "stream",
     "text": [
      "X_train: (12, 2)\n",
      "y_train: (12, 1)\n",
      "Xval: (21, 2)\n",
      "yval: (21, 1)\n"
     ]
    }
   ],
   "source": [
    "y = data['y']\n",
    "X = np.c_[np.ones_like(data['X']), data['X']]\n",
    "\n",
    "yval = data['yval']\n",
    "Xval = np.c_[np.ones_like(data['Xval']), data['Xval']]\n",
    "\n",
    "print('X_train:', X.shape)\n",
    "print('y_train:', y.shape)\n",
    "print('Xval:', Xval.shape)\n",
    "print('yval:', yval.shape)"
   ]
  },
  {
   "cell_type": "markdown",
   "metadata": {},
   "source": [
    "## Aplicando a tranformação polinomial "
   ]
  },
  {
   "cell_type": "code",
   "execution_count": 128,
   "metadata": {},
   "outputs": [],
   "source": [
    "def mapearCaracteristicas(c1, grau_polinomio):\n",
    "    m = c1.shape[0]    \n",
    "    data = np.ones((m,grau_polinomio+1))\n",
    "    for i in range(m):\n",
    "        for j in range(0, grau_polinomio+1):\n",
    "            data[i,j] = np.power(c1[i,1], j)\n",
    "    return data"
   ]
  },
  {
   "cell_type": "markdown",
   "metadata": {},
   "source": [
    "### Dados Originais"
   ]
  },
  {
   "cell_type": "code",
   "execution_count": 45,
   "metadata": {},
   "outputs": [
    {
     "data": {
      "text/html": [
       "<div>\n",
       "<style>\n",
       "    .dataframe thead tr:only-child th {\n",
       "        text-align: right;\n",
       "    }\n",
       "\n",
       "    .dataframe thead th {\n",
       "        text-align: left;\n",
       "    }\n",
       "\n",
       "    .dataframe tbody tr th {\n",
       "        vertical-align: top;\n",
       "    }\n",
       "</style>\n",
       "<table border=\"1\" class=\"dataframe\">\n",
       "  <thead>\n",
       "    <tr style=\"text-align: right;\">\n",
       "      <th></th>\n",
       "      <th>Ones</th>\n",
       "      <th>X</th>\n",
       "    </tr>\n",
       "  </thead>\n",
       "  <tbody>\n",
       "    <tr>\n",
       "      <th>0</th>\n",
       "      <td>1.0</td>\n",
       "      <td>-15.936758</td>\n",
       "    </tr>\n",
       "    <tr>\n",
       "      <th>1</th>\n",
       "      <td>1.0</td>\n",
       "      <td>-29.152979</td>\n",
       "    </tr>\n",
       "    <tr>\n",
       "      <th>2</th>\n",
       "      <td>1.0</td>\n",
       "      <td>36.189549</td>\n",
       "    </tr>\n",
       "    <tr>\n",
       "      <th>3</th>\n",
       "      <td>1.0</td>\n",
       "      <td>37.492187</td>\n",
       "    </tr>\n",
       "    <tr>\n",
       "      <th>4</th>\n",
       "      <td>1.0</td>\n",
       "      <td>-48.058829</td>\n",
       "    </tr>\n",
       "  </tbody>\n",
       "</table>\n",
       "</div>"
      ],
      "text/plain": [
       "   Ones          X\n",
       "0   1.0 -15.936758\n",
       "1   1.0 -29.152979\n",
       "2   1.0  36.189549\n",
       "3   1.0  37.492187\n",
       "4   1.0 -48.058829"
      ]
     },
     "execution_count": 45,
     "metadata": {},
     "output_type": "execute_result"
    }
   ],
   "source": [
    "original_x = pd.DataFrame(data=X, columns=[\"Ones\", \"X\"])\n",
    "original_x.head()"
   ]
  },
  {
   "cell_type": "markdown",
   "metadata": {},
   "source": [
    "### Dados Alterados"
   ]
  },
  {
   "cell_type": "code",
   "execution_count": 127,
   "metadata": {},
   "outputs": [
    {
     "data": {
      "text/html": [
       "<div>\n",
       "<style>\n",
       "    .dataframe thead tr:only-child th {\n",
       "        text-align: right;\n",
       "    }\n",
       "\n",
       "    .dataframe thead th {\n",
       "        text-align: left;\n",
       "    }\n",
       "\n",
       "    .dataframe tbody tr th {\n",
       "        vertical-align: top;\n",
       "    }\n",
       "</style>\n",
       "<table border=\"1\" class=\"dataframe\">\n",
       "  <thead>\n",
       "    <tr style=\"text-align: right;\">\n",
       "      <th></th>\n",
       "      <th>Ones</th>\n",
       "      <th>x1</th>\n",
       "      <th>x2</th>\n",
       "      <th>x3</th>\n",
       "      <th>x4</th>\n",
       "      <th>x5</th>\n",
       "      <th>x6</th>\n",
       "      <th>x7</th>\n",
       "      <th>x8</th>\n",
       "    </tr>\n",
       "  </thead>\n",
       "  <tbody>\n",
       "    <tr>\n",
       "      <th>0</th>\n",
       "      <td>1.0</td>\n",
       "      <td>-15.936758</td>\n",
       "      <td>253.980260</td>\n",
       "      <td>-4047.621971</td>\n",
       "      <td>6.450597e+04</td>\n",
       "      <td>-1.028016e+06</td>\n",
       "      <td>1.638324e+07</td>\n",
       "      <td>-2.610958e+08</td>\n",
       "      <td>4.161020e+09</td>\n",
       "    </tr>\n",
       "    <tr>\n",
       "      <th>1</th>\n",
       "      <td>1.0</td>\n",
       "      <td>-29.152979</td>\n",
       "      <td>849.896197</td>\n",
       "      <td>-24777.006175</td>\n",
       "      <td>7.223235e+05</td>\n",
       "      <td>-2.105788e+07</td>\n",
       "      <td>6.139000e+08</td>\n",
       "      <td>-1.789701e+10</td>\n",
       "      <td>5.217513e+11</td>\n",
       "    </tr>\n",
       "    <tr>\n",
       "      <th>2</th>\n",
       "      <td>1.0</td>\n",
       "      <td>36.189549</td>\n",
       "      <td>1309.683430</td>\n",
       "      <td>47396.852168</td>\n",
       "      <td>1.715271e+06</td>\n",
       "      <td>6.207487e+07</td>\n",
       "      <td>2.246462e+09</td>\n",
       "      <td>8.129843e+10</td>\n",
       "      <td>2.942154e+12</td>\n",
       "    </tr>\n",
       "    <tr>\n",
       "      <th>3</th>\n",
       "      <td>1.0</td>\n",
       "      <td>37.492187</td>\n",
       "      <td>1405.664111</td>\n",
       "      <td>52701.422173</td>\n",
       "      <td>1.975892e+06</td>\n",
       "      <td>7.408050e+07</td>\n",
       "      <td>2.777440e+09</td>\n",
       "      <td>1.041323e+11</td>\n",
       "      <td>3.904148e+12</td>\n",
       "    </tr>\n",
       "    <tr>\n",
       "      <th>4</th>\n",
       "      <td>1.0</td>\n",
       "      <td>-48.058829</td>\n",
       "      <td>2309.651088</td>\n",
       "      <td>-110999.127750</td>\n",
       "      <td>5.334488e+06</td>\n",
       "      <td>-2.563693e+08</td>\n",
       "      <td>1.232081e+10</td>\n",
       "      <td>-5.921235e+11</td>\n",
       "      <td>2.845676e+13</td>\n",
       "    </tr>\n",
       "  </tbody>\n",
       "</table>\n",
       "</div>"
      ],
      "text/plain": [
       "   Ones         x1           x2             x3            x4            x5  \\\n",
       "0   1.0 -15.936758   253.980260   -4047.621971  6.450597e+04 -1.028016e+06   \n",
       "1   1.0 -29.152979   849.896197  -24777.006175  7.223235e+05 -2.105788e+07   \n",
       "2   1.0  36.189549  1309.683430   47396.852168  1.715271e+06  6.207487e+07   \n",
       "3   1.0  37.492187  1405.664111   52701.422173  1.975892e+06  7.408050e+07   \n",
       "4   1.0 -48.058829  2309.651088 -110999.127750  5.334488e+06 -2.563693e+08   \n",
       "\n",
       "             x6            x7            x8  \n",
       "0  1.638324e+07 -2.610958e+08  4.161020e+09  \n",
       "1  6.139000e+08 -1.789701e+10  5.217513e+11  \n",
       "2  2.246462e+09  8.129843e+10  2.942154e+12  \n",
       "3  2.777440e+09  1.041323e+11  3.904148e+12  \n",
       "4  1.232081e+10 -5.921235e+11  2.845676e+13  "
      ]
     },
     "execution_count": 127,
     "metadata": {},
     "output_type": "execute_result"
    }
   ],
   "source": [
    "grau = 8\n",
    "polinomio = mapearCaracteristicas(X, grau)\n",
    "\n",
    "colunas = [\"Ones\"]\n",
    "for i in range(1, grau+1):\n",
    "    colunas.append(\"x\" + str(i))\n",
    "\n",
    "x_transformado = pd.DataFrame(polinomio, columns=indices)\n",
    "x_transformado.head()"
   ]
  },
  {
   "cell_type": "markdown",
   "metadata": {},
   "source": [
    "## Gerando o gráfico"
   ]
  },
  {
   "cell_type": "code",
   "execution_count": 7,
   "metadata": {
    "collapsed": true
   },
   "outputs": [],
   "source": [
    "poly = PolynomialFeatures(degree=8)\n",
    "X_train_poly = poly.fit_transform(X[:,1].reshape(-1,1))\n",
    "\n",
    "regr2 = LinearRegression()\n",
    "regr2.fit(X_train_poly, y)\n",
    "\n",
    "plot_x = np.linspace(-60,45)\n",
    "\n",
    "#Usando o coeficientes para calcular y\n",
    "plot_y = regr2.intercept_+ np.sum(regr2.coef_*poly.fit_transform(plot_x.reshape(-1,1)), axis=1)"
   ]
  },
  {
   "cell_type": "code",
   "execution_count": 139,
   "metadata": {},
   "outputs": [
    {
     "data": {
      "text/plain": [
       "<matplotlib.legend.Legend at 0x1122acac8>"
      ]
     },
     "execution_count": 139,
     "metadata": {},
     "output_type": "execute_result"
    },
    {
     "data": {
      "image/png": "[encoded data removed]",
      "text/plain": [
       "<matplotlib.figure.Figure at 0x112251a20>"
      ]
     },
     "metadata": {},
     "output_type": "display_data"
    }
   ],
   "source": [
    "fig, ax = plt.subplots(figsize=(12,8)) \n",
    "\n",
    "ax.set_title('Regressão Polinomial com grau 8')\n",
    "\n",
    "ax.plot(plot_x, plot_y, label='Regressão Linear Polinomial')\n",
    "ax.set_xlabel(\"Alterações no Nível de Água\")  \n",
    "ax.set_ylabel('Volume de Vazão')\n",
    "ax.scatter(X[:,1], y, marker='x', c='r')\n",
    "ax.set_ylim(ymin=-60, ymax=50)\n",
    "ax.set_xlim(xmin=-60, xmax=50)\n",
    "ax.legend(loc=4)"
   ]
  }
 ],
 "metadata": {
  "kernelspec": {
   "display_name": "Python 3",
   "language": "python",
   "name": "python3"
  },
  "language_info": {
   "codemirror_mode": {
    "name": "ipython",
    "version": 3
   },
   "file_extension": ".py",
   "mimetype": "text/x-python",
   "name": "python",
   "nbconvert_exporter": "python",
   "pygments_lexer": "ipython3",
   "version": "3.6.2"
  }
 },
 "nbformat": 4,
 "nbformat_minor": 2
}
