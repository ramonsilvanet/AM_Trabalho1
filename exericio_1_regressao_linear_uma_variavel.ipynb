{
 "cells": [
  {
   "cell_type": "markdown",
   "metadata": {},
   "source": [
    "# 1   Regressão Linear com uma Variável"
   ]
  },
  {
   "cell_type": "code",
   "execution_count": 1,
   "metadata": {
    "collapsed": true
   },
   "outputs": [],
   "source": [
    "#importando bibliotecas necessárias\n",
    "import numpy as np\n",
    "import pandas as pandas\n",
    "import matplotlib.pyplot as plt\n",
    "import matplotlib.mlab as mlab"
   ]
  },
  {
   "cell_type": "code",
   "execution_count": 2,
   "metadata": {
    "collapsed": true
   },
   "outputs": [],
   "source": [
    "# lendo os dados do dataset\n",
    "dataframe = pandas.read_csv(\"data/ex1data1.txt\", header=None)\n",
    "dataset = dataframe.values\n",
    "\n",
    "#vetorizando os dados , para poder dar entrda na função de ComputarCusto\n",
    "x = np.array(dataset[:, 0:1])\n",
    "y = np.array(dataset[:, 1])"
   ]
  },
  {
   "cell_type": "markdown",
   "metadata": {},
   "source": [
    "## 1.1 Visualização do Dados"
   ]
  },
  {
   "cell_type": "code",
   "execution_count": 3,
   "metadata": {},
   "outputs": [
    {
     "data": {
      "image/png": "[encoded data removed]",
      "text/plain": [
       "<matplotlib.figure.Figure at 0x10b38d4a8>"
      ]
     },
     "metadata": {},
     "output_type": "display_data"
    }
   ],
   "source": [
    "#gerando o gráfico de dispersão\n",
    "#para analise preliminar dos dados\n",
    "plt.figure(figsize=(10,8))\n",
    "plt.ylabel(\"Lucro x $10.000\")\n",
    "plt.xlabel(\"População da Cidade (x10000 habitantes)\")\n",
    "plt.scatter(x, y, s=30, alpha=0.5, marker='x', color='b')\n",
    "#exibe o gráfico\n",
    "plt.show()"
   ]
  },
  {
   "cell_type": "markdown",
   "metadata": {},
   "source": [
    "## 1.2 Gradiente Descendente"
   ]
  },
  {
   "cell_type": "markdown",
   "metadata": {},
   "source": [
    "Função de custo a ser utilizada para encontrar o gradiente. E função de erro quadratico"
   ]
  },
  {
   "cell_type": "code",
   "execution_count": 4,
   "metadata": {
    "collapsed": true
   },
   "outputs": [],
   "source": [
    "def computarCusto(th0, th1, x, y):\n",
    "    m = len(y)\n",
    "    return 1.0 / m * sum([(th0 + th1 * x[i] - y[i]) for i in range(m)])"
   ]
  },
  {
   "cell_type": "markdown",
   "metadata": {},
   "source": [
    "Implementação do gradiente descendente para descobrir qual função hipotese minimiza o erro para os dados.\n",
    "Esta função utiliza a função de custo para calcular o gradiente."
   ]
  },
  {
   "cell_type": "code",
   "execution_count": 5,
   "metadata": {
    "collapsed": true
   },
   "outputs": [],
   "source": [
    "def gradiente_descendente(x, y, alpha = 0.01, convergencia = 0.01, max_iteracoes = 1000):\n",
    "    convergiu = False\n",
    "    iteracoes = 0\n",
    "\n",
    "    m = x.shape[0]\n",
    "\n",
    "    #calculando os thetas iniciais\n",
    "    th0 = 0\n",
    "    th1 = 0\n",
    "\n",
    "    #calculando o erro total, J(theta)\n",
    "    J = sum([(th0 + th1 * x[i] - y[i]) ** 2 for i in range(m)])\n",
    "\n",
    "    while not convergiu:\n",
    "        #atualizando o numero de iteraçoes\n",
    "        iteracoes += 1\n",
    "        \n",
    "        # para cada exemplo de treinamento, computar o gradiente (d/d_theta_j(theta)\n",
    "        grad0 =  computarCusto(th0, th1, x, y)\n",
    "        grad1 = 1.0 / m * sum([(th0 + th1 * x[i] - y[i]) * x[i] for i in range(m)])\n",
    "\n",
    "        # atualizando os thteas temporarios theta_temp\n",
    "        temp0 = th0 - alpha * grad0\n",
    "        temp1 = th1 - alpha * grad1\n",
    "\n",
    "        #atualizando os thetas\n",
    "        th0 = temp0\n",
    "        th1 = temp1\n",
    "\n",
    "        # erro medio quadratico\n",
    "        erro = sum([(th0 + th1 * x[i] - y[i]) ** 2 for i in range(m)])\n",
    "\n",
    "        #verificando o criterio de convergencia\n",
    "        if abs(J - erro) <= convergencia:\n",
    "            print('Convergiu após', iteracoes, 'iterações !!!')\n",
    "            convergiu = True\n",
    "\n",
    "        #atualizando o erro (J)\n",
    "        J = erro\n",
    "\n",
    "        #segundo criterio de parada, maximo de iterações atingidas\n",
    "        if iteracoes == max_iteracoes:\n",
    "            print(\"Maximo de iteracoes atingidas\", max_iteracoes)\n",
    "            convergiu = True\n",
    "\n",
    "    print(\"theta0\", th0, \"theta1\", th1)\n",
    "    \n",
    "    def fn_hipotese(x1):\n",
    "        return  th0 + th1 * x1\n",
    "    \n",
    "    return fn_hipotese"
   ]
  },
  {
   "cell_type": "code",
   "execution_count": 6,
   "metadata": {},
   "outputs": [
    {
     "name": "stdout",
     "output_type": "stream",
     "text": [
      "Convergiu após 1279 iterações !!!\n",
      "theta0 [-3.50021861] theta1 [ 1.15329512]\n"
     ]
    }
   ],
   "source": [
    "#executando o algoritmos de regressão linear\n",
    "fn_hipotese = gradiente_descendente(x, y, max_iteracoes = 10000)"
   ]
  },
  {
   "cell_type": "code",
   "execution_count": 7,
   "metadata": {},
   "outputs": [
    {
     "data": {
      "image/png": "[encoded data removed]",
      "text/plain": [
       "<matplotlib.figure.Figure at 0x10dbc5f60>"
      ]
     },
     "metadata": {},
     "output_type": "display_data"
    }
   ],
   "source": [
    "#criando o gráfico\n",
    "plt.figure(figsize=(10,8))\n",
    "plt.ylabel(\"Lucro x $10.000\")\n",
    "plt.xlabel(\"População da Cidade (x10000 habitantes)\")\n",
    "\n",
    "#Geração a dispersão dos dados\n",
    "plt.scatter(x, y, s=45, alpha=0.5, marker='x', label='Dados de Treinamento')\n",
    "#tracando a linha de regressão linear sobre o gráfico\n",
    "plt.plot(x, fn_hipotese(x), '-', label='Regressão Linear')\n",
    "\n",
    "\n",
    "#adicionando legenda ao gráfico\n",
    "lgnd = plt.legend(loc=\"lower right\", numpoints=1, fontsize=10)\n",
    "lgnd.legendHandles[0]._legmarker.set_markersize(6)\n",
    "\n",
    "#exibindo o grafico\n",
    "plt.show()"
   ]
  },
  {
   "cell_type": "code",
   "execution_count": 8,
   "metadata": {},
   "outputs": [
    {
     "name": "stdout",
     "output_type": "stream",
     "text": [
      "Lucro presumido para 35000 habitantes [ 0.53631432]\n"
     ]
    }
   ],
   "source": [
    "#Usando o modelo Gerado para predizer o lucro em regiões com 35000 habitentes (3.5 x 10000)\n",
    "#Para isso iremos aplicar a formulo yˆ= a + bx, onde x é a quantidade de habitantes\n",
    "print(\"Lucro presumido para 35000 habitantes\", fn_hipotese(3.5))"
   ]
  },
  {
   "cell_type": "code",
   "execution_count": 9,
   "metadata": {},
   "outputs": [
    {
     "name": "stdout",
     "output_type": "stream",
     "text": [
      "Lucro presumido para 70000 habitantes [ 4.57284726]\n"
     ]
    }
   ],
   "source": [
    "#Usando o modelo Gerado para predizer o lucro em regiões com 70000 habitentes (7.0 x 10000)\n",
    "#Para isso iremos aplicar a formulo yˆ= a + bx, onde x é a quantidade de habitantes\n",
    "print(\"Lucro presumido para 70000 habitantes\", fn_hipotese(7))"
   ]
  },
  {
   "cell_type": "code",
   "execution_count": 10,
   "metadata": {
    "collapsed": true
   },
   "outputs": [],
   "source": [
    "#variacao \n",
    "delta = 0.01\n",
    "\n",
    "#Criando distribuições normais para os theta0 e theta1\n",
    "theta0 = np.arange(-10.0, 10.0, delta)\n",
    "theta1 = np.arange(-1.0, 4.0, delta)\n"
   ]
  }
 ],
 "metadata": {
  "kernelspec": {
   "display_name": "Python 3",
   "language": "python",
   "name": "python3"
  },
  "language_info": {
   "codemirror_mode": {
    "name": "ipython",
    "version": 3
   },
   "file_extension": ".py",
   "mimetype": "text/x-python",
   "name": "python",
   "nbconvert_exporter": "python",
   "pygments_lexer": "ipython3",
   "version": "3.6.2"
  }
 },
 "nbformat": 4,
 "nbformat_minor": 2
}
