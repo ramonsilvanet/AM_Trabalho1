{
 "cells": [
  {
   "cell_type": "markdown",
   "metadata": {},
   "source": [
    "# 2.1 Regressão com multi variáveis"
   ]
  },
  {
   "cell_type": "code",
   "execution_count": 7,
   "metadata": {
    "collapsed": true
   },
   "outputs": [],
   "source": [
    "import numpy as np\n",
    "import pandas as pandas\n",
    "import matplotlib.pyplot as plt"
   ]
  },
  {
   "cell_type": "code",
   "execution_count": 8,
   "metadata": {
    "collapsed": true
   },
   "outputs": [],
   "source": [
    "# lendo os dados do dataset\n",
    "dataframe = pandas.read_csv(\"data/ex1data2.txt\", header=None)\n",
    "dataset = dataframe.values\n",
    "\n",
    "#vetorizando os dados , para poder dar entrda na função de ComputarCusto\n",
    "x = dataset[:, :2]\n",
    "y = dataset[:, [2]]"
   ]
  },
  {
   "cell_type": "markdown",
   "metadata": {},
   "source": [
    "## 2.1 Normalizaçaão das características"
   ]
  },
  {
   "cell_type": "code",
   "execution_count": 9,
   "metadata": {
    "collapsed": true
   },
   "outputs": [],
   "source": [
    "def normalizarCaracteristica(caract):\n",
    "    normalizado = (caract - caract.mean()) / caract.std()\n",
    "    return normalizado\n",
    "    \n",
    "x_data = normalizarCaracteristica(x)\n",
    "y_data = normalizarCaracteristica(y)"
   ]
  },
  {
   "cell_type": "markdown",
   "metadata": {},
   "source": [
    "## 2.2 Gradiente descendente"
   ]
  },
  {
   "cell_type": "code",
   "execution_count": 22,
   "metadata": {
    "collapsed": true
   },
   "outputs": [],
   "source": [
    "def computarCusto(th0, th1, x, y):\n",
    "    m = len(y)\n",
    "    return 1.0 / m * sum([(th0 + np.dot(th1[i], x[i]) - y[i]) for i in range(m)])\n",
    "\n",
    "\n",
    "def gradiente_descendente(x, y, alpha = 0.01, convergencia = 0.01, max_iteracoes = 1000):\n",
    "    convergiu = False\n",
    "    iteracoes = 0\n",
    "\n",
    "    m = x.shape[0]\n",
    "\n",
    "    #calculando os thetas iniciais\n",
    "    th0 = 0\n",
    "    th1 = np.zeros(x.shape[0])\n",
    "   \n",
    "    \n",
    "    #calculando o erro total, J(theta)\n",
    "    J = sum([(th0 + np.dot(th1[i],x[i]) - y[i]) ** 2 for i in range(m)])\n",
    "        \n",
    "    while not convergiu:\n",
    "        #atualizando o numero de iteraçoes\n",
    "        iteracoes += 1\n",
    "        \n",
    "        # para cada exemplo de treinamento, computar o gradiente (d/d_theta_j(theta)\n",
    "        grad0 =  computarCusto(th0, th1, x, y)\n",
    "        grad1 = 1.0 / m * sum([(th0 + np.dot(th1[i],x[i]) - y[i]) * x[i] for i in range(m)])\n",
    "\n",
    "        # atualizando os thteas temporarios theta_temp\n",
    "        temp0 = th0 - alpha * grad0\n",
    "        temp1 = [th1[i] - alpha * grad1 for i in range(len(th1))]\n",
    "\n",
    "        #atualizando os thetas\n",
    "        th0 = temp0\n",
    "        th1 = temp1\n",
    "\n",
    "        # erro medio quadratico\n",
    "        erro = sum([(th0 + np.dot(th1[i],x[i]) - y[i]) ** 2 for i in range(m)])\n",
    "                        \n",
    "        #verificando o criterio de convergencia\n",
    "        if abs(sum(J) - sum(erro)) <= convergencia:\n",
    "            print('Convergiu após', iteracoes, 'iterações !!!')\n",
    "            convergiu = True\n",
    "\n",
    "        #atualizando o erro (J)\n",
    "        J = erro\n",
    "\n",
    "        #segundo criterio de parada, maximo de iterações atingidas\n",
    "        if iteracoes == max_iteracoes:\n",
    "            print(\"Maximo de iteracoes atingidas\", max_iteracoes)\n",
    "            convergiu = True\n",
    "\n",
    "    print(\"theta0\", th0, \"theta1\", th1)\n",
    "    \n",
    "    def fn_hipotese(x1):\n",
    "        result = theta0\n",
    "        for i in range(len(x1)):\n",
    "            sum += th1[i] * x1[1]\n",
    "        return result  \n",
    "    \n",
    "    return fn_hipotese"
   ]
  },
  {
   "cell_type": "code",
   "execution_count": 23,
   "metadata": {},
   "outputs": [
    {
     "name": "stderr",
     "output_type": "stream",
     "text": [
      "/Users/ramonfsilva/anaconda3/lib/python3.6/site-packages/ipykernel_launcher.py:37: RuntimeWarning: overflow encountered in square\n",
      "/Users/ramonfsilva/anaconda3/lib/python3.6/site-packages/ipykernel_launcher.py:40: RuntimeWarning: invalid value encountered in double_scalars\n",
      "/Users/ramonfsilva/anaconda3/lib/python3.6/site-packages/ipykernel_launcher.py:26: RuntimeWarning: overflow encountered in add\n",
      "/Users/ramonfsilva/anaconda3/lib/python3.6/site-packages/ipykernel_launcher.py:30: RuntimeWarning: invalid value encountered in subtract\n"
     ]
    },
    {
     "name": "stdout",
     "output_type": "stream",
     "text": [
      "Maximo de iteracoes atingidas 10000\n",
      "theta0 [ nan  nan] theta1 [array([ nan,  nan]), array([ nan,  nan]), array([ nan,  nan]), array([ nan,  nan]), array([ nan,  nan]), array([ nan,  nan]), array([ nan,  nan]), array([ nan,  nan]), array([ nan,  nan]), array([ nan,  nan]), array([ nan,  nan]), array([ nan,  nan]), array([ nan,  nan]), array([ nan,  nan]), array([ nan,  nan]), array([ nan,  nan]), array([ nan,  nan]), array([ nan,  nan]), array([ nan,  nan]), array([ nan,  nan]), array([ nan,  nan]), array([ nan,  nan]), array([ nan,  nan]), array([ nan,  nan]), array([ nan,  nan]), array([ nan,  nan]), array([ nan,  nan]), array([ nan,  nan]), array([ nan,  nan]), array([ nan,  nan]), array([ nan,  nan]), array([ nan,  nan]), array([ nan,  nan]), array([ nan,  nan]), array([ nan,  nan]), array([ nan,  nan]), array([ nan,  nan]), array([ nan,  nan]), array([ nan,  nan]), array([ nan,  nan]), array([ nan,  nan]), array([ nan,  nan]), array([ nan,  nan]), array([ nan,  nan]), array([ nan,  nan]), array([ nan,  nan]), array([ nan,  nan])]\n"
     ]
    }
   ],
   "source": [
    "fn_hipotese = gradiente_descendente(x, y, max_iteracoes = 10000)"
   ]
  }
 ],
 "metadata": {
  "kernelspec": {
   "display_name": "Python 3",
   "language": "python",
   "name": "python3"
  },
  "language_info": {
   "codemirror_mode": {
    "name": "ipython",
    "version": 3
   },
   "file_extension": ".py",
   "mimetype": "text/x-python",
   "name": "python",
   "nbconvert_exporter": "python",
   "pygments_lexer": "ipython3",
   "version": "3.6.2"
  }
 },
 "nbformat": 4,
 "nbformat_minor": 2
}
