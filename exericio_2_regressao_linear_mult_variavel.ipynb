{
 "cells": [
  {
   "cell_type": "markdown",
   "metadata": {},
   "source": [
    "# 2.1 Regressão com multi variáveis"
   ]
  },
  {
   "cell_type": "code",
   "execution_count": 2,
   "metadata": {
    "collapsed": true
   },
   "outputs": [],
   "source": [
    "import numpy as np\n",
    "import pandas as pandas\n",
    "import matplotlib.pyplot as plt"
   ]
  },
  {
   "cell_type": "code",
   "execution_count": 3,
   "metadata": {
    "collapsed": true
   },
   "outputs": [],
   "source": [
    "# lendo os dados do dataset\n",
    "dataframe = pandas.read_csv(\"data/ex1data2.txt\", header=None)\n",
    "dataset = dataframe.values\n",
    "\n",
    "#vetorizando os dados , para poder dar entrda na função de ComputarCusto\n",
    "x = dataset[:, :2]\n",
    "y = dataset[:, [2]]"
   ]
  },
  {
   "cell_type": "markdown",
   "metadata": {},
   "source": [
    "## 2.1 Normalizaçaão das características"
   ]
  },
  {
   "cell_type": "code",
   "execution_count": 4,
   "metadata": {
    "collapsed": true
   },
   "outputs": [],
   "source": [
    "def normalizarCaracteristica(caract):\n",
    "    normalizado = (caract - caract.mean()) / caract.std()\n",
    "    return normalizado\n",
    "    \n",
    "x_data = normalizarCaracteristica(x)\n",
    "y_data = normalizarCaracteristica(y)"
   ]
  },
  {
   "cell_type": "markdown",
   "metadata": {},
   "source": [
    "## 2.2 Gradiente descendente"
   ]
  },
  {
   "cell_type": "code",
   "execution_count": 19,
   "metadata": {
    "collapsed": true
   },
   "outputs": [],
   "source": [
    "def computarCusto(th0, th1, x, y):\n",
    "    m = len(y)\n",
    "    return 1.0 / m * sum([(th0 + np.dot(th1[i], x[i]) - y[i]) for i in range(m)])\n",
    "\n",
    "\n",
    "def gradiente_descendente(x, y, alpha = 0.01, convergencia = 0.01, max_iteracoes = 1000):\n",
    "    convergiu = False\n",
    "    iteracoes = 0\n",
    "\n",
    "    m = x.shape[0]\n",
    "\n",
    "    #calculando os thetas iniciais\n",
    "    th0 = 0\n",
    "    th1 = np.zeros(x.shape[0])\n",
    "   \n",
    "    \n",
    "    #calculando o erro total, J(theta)\n",
    "    J = sum([(th0 + np.dot(th1[i],x[i]) - y[i]) ** 2 for i in range(m)])\n",
    "\n",
    "    while not convergiu:\n",
    "        #atualizando o numero de iteraçoes\n",
    "        iteracoes += 1\n",
    "        \n",
    "        # para cada exemplo de treinamento, computar o gradiente (d/d_theta_j(theta)\n",
    "        grad0 =  computarCusto(th0, th1, x, y)\n",
    "        grad1 = 1.0 / m * sum([(th0 + np.dot(th1[i],x[i]) - y[i]) * x[i] for i in range(m)])\n",
    "\n",
    "        # atualizando os thteas temporarios theta_temp\n",
    "        temp0 = th0 - alpha * grad0\n",
    "        temp1 = th1 - alpha * grad1\n",
    "\n",
    "        #atualizando os thetas\n",
    "        th0 = temp0\n",
    "        th1 = temp1\n",
    "\n",
    "        # erro medio quadratico\n",
    "        erro = sum([(th0 + np.dot(th1[1] * x[i]) - y[i]) ** 2 for i in range(m)])\n",
    "\n",
    "        #verificando o criterio de convergencia\n",
    "        if abs(J - erro) <= convergencia:\n",
    "            print('Convergiu após', iteracoes, 'iterações !!!')\n",
    "            convergiu = True\n",
    "\n",
    "        #atualizando o erro (J)\n",
    "        J = erro\n",
    "\n",
    "        #segundo criterio de parada, maximo de iterações atingidas\n",
    "        if iteracoes == max_iteracoes:\n",
    "            print(\"Maximo de iteracoes atingidas\", max_iteracoes)\n",
    "            convergiu = True\n",
    "\n",
    "    print(\"theta0\", th0, \"theta1\", th1)\n",
    "    \n",
    "    def fn_hipotese(x1):\n",
    "        result = theta0\n",
    "        for i in range(len(x1)):\n",
    "            sum += th1[i] * x1[1]\n",
    "        return result  \n",
    "    \n",
    "    return fn_hipotese"
   ]
  },
  {
   "cell_type": "code",
   "execution_count": 20,
   "metadata": {},
   "outputs": [
    {
     "ename": "ValueError",
     "evalue": "operands could not be broadcast together with shapes (47,) (2,) ",
     "output_type": "error",
     "traceback": [
      "\u001b[0;31m---------------------------------------------------------------------------\u001b[0m",
      "\u001b[0;31mValueError\u001b[0m                                Traceback (most recent call last)",
      "\u001b[0;32m<ipython-input-20-101f54f19722>\u001b[0m in \u001b[0;36m<module>\u001b[0;34m()\u001b[0m\n\u001b[0;32m----> 1\u001b[0;31m \u001b[0mfn_hipotese\u001b[0m \u001b[0;34m=\u001b[0m \u001b[0mgradiente_descendente\u001b[0m\u001b[0;34m(\u001b[0m\u001b[0mx\u001b[0m\u001b[0;34m,\u001b[0m \u001b[0my\u001b[0m\u001b[0;34m,\u001b[0m \u001b[0mmax_iteracoes\u001b[0m \u001b[0;34m=\u001b[0m \u001b[0;36m10000\u001b[0m\u001b[0;34m)\u001b[0m\u001b[0;34m\u001b[0m\u001b[0m\n\u001b[0m",
      "\u001b[0;32m<ipython-input-19-43e48d106980>\u001b[0m in \u001b[0;36mgradiente_descendente\u001b[0;34m(x, y, alpha, convergencia, max_iteracoes)\u001b[0m\n\u001b[1;32m     28\u001b[0m         \u001b[0;31m# atualizando os thteas temporarios theta_temp\u001b[0m\u001b[0;34m\u001b[0m\u001b[0;34m\u001b[0m\u001b[0m\n\u001b[1;32m     29\u001b[0m         \u001b[0mtemp0\u001b[0m \u001b[0;34m=\u001b[0m \u001b[0mth0\u001b[0m \u001b[0;34m-\u001b[0m \u001b[0malpha\u001b[0m \u001b[0;34m*\u001b[0m \u001b[0mgrad0\u001b[0m\u001b[0;34m\u001b[0m\u001b[0m\n\u001b[0;32m---> 30\u001b[0;31m         \u001b[0mtemp1\u001b[0m \u001b[0;34m=\u001b[0m \u001b[0mth1\u001b[0m \u001b[0;34m-\u001b[0m \u001b[0malpha\u001b[0m \u001b[0;34m*\u001b[0m \u001b[0mgrad1\u001b[0m\u001b[0;34m\u001b[0m\u001b[0m\n\u001b[0m\u001b[1;32m     31\u001b[0m \u001b[0;34m\u001b[0m\u001b[0m\n\u001b[1;32m     32\u001b[0m         \u001b[0;31m#atualizando os thetas\u001b[0m\u001b[0;34m\u001b[0m\u001b[0;34m\u001b[0m\u001b[0m\n",
      "\u001b[0;31mValueError\u001b[0m: operands could not be broadcast together with shapes (47,) (2,) "
     ]
    }
   ],
   "source": [
    "fn_hipotese = gradiente_descendente(x, y, max_iteracoes = 10000)"
   ]
  }
 ],
 "metadata": {
  "kernelspec": {
   "display_name": "Python 3",
   "language": "python",
   "name": "python3"
  },
  "language_info": {
   "codemirror_mode": {
    "name": "ipython",
    "version": 3
   },
   "file_extension": ".py",
   "mimetype": "text/x-python",
   "name": "python",
   "nbconvert_exporter": "python",
   "pygments_lexer": "ipython3",
   "version": "3.6.2"
  }
 },
 "nbformat": 4,
 "nbformat_minor": 2
}
