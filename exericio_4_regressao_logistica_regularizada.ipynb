{
 "cells": [
  {
   "cell_type": "code",
   "execution_count": 1,
   "metadata": {
    "collapsed": true
   },
   "outputs": [],
   "source": [
    "import numpy as np  \n",
    "import pandas as pd  \n",
    "import matplotlib.pyplot as plt  \n",
    "%matplotlib inline\n",
    "\n",
    "import scipy.optimize as opt  \n",
    "from aprendizado_maquina import regressao_logistica as lg"
   ]
  },
  {
   "cell_type": "code",
   "execution_count": 2,
   "metadata": {},
   "outputs": [
    {
     "data": {
      "text/html": [
       "<div>\n",
       "<style>\n",
       "    .dataframe thead tr:only-child th {\n",
       "        text-align: right;\n",
       "    }\n",
       "\n",
       "    .dataframe thead th {\n",
       "        text-align: left;\n",
       "    }\n",
       "\n",
       "    .dataframe tbody tr th {\n",
       "        vertical-align: top;\n",
       "    }\n",
       "</style>\n",
       "<table border=\"1\" class=\"dataframe\">\n",
       "  <thead>\n",
       "    <tr style=\"text-align: right;\">\n",
       "      <th></th>\n",
       "      <th>Teste 1</th>\n",
       "      <th>Teste 2</th>\n",
       "      <th>Aceito</th>\n",
       "    </tr>\n",
       "  </thead>\n",
       "  <tbody>\n",
       "    <tr>\n",
       "      <th>0</th>\n",
       "      <td>0.051267</td>\n",
       "      <td>0.69956</td>\n",
       "      <td>1</td>\n",
       "    </tr>\n",
       "    <tr>\n",
       "      <th>1</th>\n",
       "      <td>-0.092742</td>\n",
       "      <td>0.68494</td>\n",
       "      <td>1</td>\n",
       "    </tr>\n",
       "    <tr>\n",
       "      <th>2</th>\n",
       "      <td>-0.213710</td>\n",
       "      <td>0.69225</td>\n",
       "      <td>1</td>\n",
       "    </tr>\n",
       "    <tr>\n",
       "      <th>3</th>\n",
       "      <td>-0.375000</td>\n",
       "      <td>0.50219</td>\n",
       "      <td>1</td>\n",
       "    </tr>\n",
       "    <tr>\n",
       "      <th>4</th>\n",
       "      <td>-0.513250</td>\n",
       "      <td>0.46564</td>\n",
       "      <td>1</td>\n",
       "    </tr>\n",
       "  </tbody>\n",
       "</table>\n",
       "</div>"
      ],
      "text/plain": [
       "    Teste 1  Teste 2  Aceito\n",
       "0  0.051267  0.69956       1\n",
       "1 -0.092742  0.68494       1\n",
       "2 -0.213710  0.69225       1\n",
       "3 -0.375000  0.50219       1\n",
       "4 -0.513250  0.46564       1"
      ]
     },
     "execution_count": 2,
     "metadata": {},
     "output_type": "execute_result"
    }
   ],
   "source": [
    "data = pd.read_csv('data/ex2data2.txt', header=None, names=['Teste 1', 'Teste 2', 'Aceito'])  \n",
    "data.head()"
   ]
  },
  {
   "cell_type": "code",
   "execution_count": 3,
   "metadata": {},
   "outputs": [
    {
     "data": {
      "text/plain": [
       "<matplotlib.text.Text at 0x11d47e1d0>"
      ]
     },
     "execution_count": 3,
     "metadata": {},
     "output_type": "execute_result"
    },
    {
     "data": {
      "image/png": "[encoded data removed]",
      "text/plain": [
       "<matplotlib.figure.Figure at 0x11ae680b8>"
      ]
     },
     "metadata": {},
     "output_type": "display_data"
    }
   ],
   "source": [
    "positive = data[data['Aceito'].isin([1])]  \n",
    "negative = data[data['Aceito'].isin([0])]\n",
    "\n",
    "fig, ax = plt.subplots(figsize=(12,8))  \n",
    "ax.scatter(positive['Teste 1'], positive['Teste 2'], s=50, c='k', marker='+', label='Aceito')  \n",
    "ax.scatter(negative['Teste 1'], negative['Teste 2'], s=50, c='y', marker='o', label='Rejeitado')  \n",
    "ax.legend()  \n",
    "ax.set_xlabel('Resultado Teste 1')  \n",
    "ax.set_ylabel('Resultado Teste 2')  "
   ]
  },
  {
   "cell_type": "markdown",
   "metadata": {},
   "source": [
    "### Aplicando a regularização ao modelo"
   ]
  },
  {
   "cell_type": "code",
   "execution_count": 4,
   "metadata": {
    "collapsed": true
   },
   "outputs": [],
   "source": [
    "grau_polinomio = 6 "
   ]
  },
  {
   "cell_type": "markdown",
   "metadata": {},
   "source": [
    "Adicionando um coluna preenchida com '1'"
   ]
  },
  {
   "cell_type": "markdown",
   "metadata": {},
   "source": [
    "### Mapeamento de características (feature mapping)"
   ]
  },
  {
   "cell_type": "code",
   "execution_count": 23,
   "metadata": {
    "collapsed": true
   },
   "outputs": [],
   "source": [
    "def mapearCaracteristicas(c1, c2, grau_polinomio):\n",
    "    assert grau_polinomio >= 1\n",
    "    def iter():\n",
    "        for i in range(1, grau_polinomio + 1):\n",
    "            for j in range(i + 1):\n",
    "                yield np.power(c1, i - j) * np.power(c2, j)\n",
    "    return np.vstack(iter())"
   ]
  },
  {
   "cell_type": "code",
   "execution_count": 6,
   "metadata": {
    "collapsed": true
   },
   "outputs": [],
   "source": [
    "data.insert(3, 'Ones', 1)"
   ]
  },
  {
   "cell_type": "code",
   "execution_count": 7,
   "metadata": {
    "collapsed": true
   },
   "outputs": [],
   "source": [
    "x1 = data['Teste 1']  \n",
    "x2 = data['Teste 2']\n",
    "\n",
    "for i in range(1, grau_polinomio):\n",
    "    for j in range(0, i):\n",
    "        data['F' + str(i) + str(j)] = np.power(x1, i-j) * np.power(x2, j)\n",
    "\n",
    "data.drop('Teste 1', axis=1, inplace=True)  \n",
    "data.drop('Teste 2', axis=1, inplace=True)"
   ]
  },
  {
   "cell_type": "markdown",
   "metadata": {},
   "source": [
    "Exibindo a nova formatação dos dados"
   ]
  },
  {
   "cell_type": "code",
   "execution_count": 8,
   "metadata": {},
   "outputs": [
    {
     "data": {
      "text/html": [
       "<div>\n",
       "<style>\n",
       "    .dataframe thead tr:only-child th {\n",
       "        text-align: right;\n",
       "    }\n",
       "\n",
       "    .dataframe thead th {\n",
       "        text-align: left;\n",
       "    }\n",
       "\n",
       "    .dataframe tbody tr th {\n",
       "        vertical-align: top;\n",
       "    }\n",
       "</style>\n",
       "<table border=\"1\" class=\"dataframe\">\n",
       "  <thead>\n",
       "    <tr style=\"text-align: right;\">\n",
       "      <th></th>\n",
       "      <th>Aceito</th>\n",
       "      <th>Ones</th>\n",
       "      <th>F10</th>\n",
       "      <th>F20</th>\n",
       "      <th>F21</th>\n",
       "      <th>F30</th>\n",
       "      <th>F31</th>\n",
       "      <th>F32</th>\n",
       "      <th>F40</th>\n",
       "      <th>F41</th>\n",
       "      <th>F42</th>\n",
       "      <th>F43</th>\n",
       "      <th>F50</th>\n",
       "      <th>F51</th>\n",
       "      <th>F52</th>\n",
       "      <th>F53</th>\n",
       "      <th>F54</th>\n",
       "    </tr>\n",
       "  </thead>\n",
       "  <tbody>\n",
       "    <tr>\n",
       "      <th>0</th>\n",
       "      <td>1</td>\n",
       "      <td>1</td>\n",
       "      <td>0.051267</td>\n",
       "      <td>0.002628</td>\n",
       "      <td>0.035864</td>\n",
       "      <td>0.000135</td>\n",
       "      <td>0.001839</td>\n",
       "      <td>0.025089</td>\n",
       "      <td>0.000007</td>\n",
       "      <td>0.000094</td>\n",
       "      <td>0.001286</td>\n",
       "      <td>0.017551</td>\n",
       "      <td>3.541519e-07</td>\n",
       "      <td>0.000005</td>\n",
       "      <td>0.000066</td>\n",
       "      <td>0.000900</td>\n",
       "      <td>0.012278</td>\n",
       "    </tr>\n",
       "    <tr>\n",
       "      <th>1</th>\n",
       "      <td>1</td>\n",
       "      <td>1</td>\n",
       "      <td>-0.092742</td>\n",
       "      <td>0.008601</td>\n",
       "      <td>-0.063523</td>\n",
       "      <td>-0.000798</td>\n",
       "      <td>0.005891</td>\n",
       "      <td>-0.043509</td>\n",
       "      <td>0.000074</td>\n",
       "      <td>-0.000546</td>\n",
       "      <td>0.004035</td>\n",
       "      <td>-0.029801</td>\n",
       "      <td>-6.860919e-06</td>\n",
       "      <td>0.000051</td>\n",
       "      <td>-0.000374</td>\n",
       "      <td>0.002764</td>\n",
       "      <td>-0.020412</td>\n",
       "    </tr>\n",
       "    <tr>\n",
       "      <th>2</th>\n",
       "      <td>1</td>\n",
       "      <td>1</td>\n",
       "      <td>-0.213710</td>\n",
       "      <td>0.045672</td>\n",
       "      <td>-0.147941</td>\n",
       "      <td>-0.009761</td>\n",
       "      <td>0.031616</td>\n",
       "      <td>-0.102412</td>\n",
       "      <td>0.002086</td>\n",
       "      <td>-0.006757</td>\n",
       "      <td>0.021886</td>\n",
       "      <td>-0.070895</td>\n",
       "      <td>-4.457837e-04</td>\n",
       "      <td>0.001444</td>\n",
       "      <td>-0.004677</td>\n",
       "      <td>0.015151</td>\n",
       "      <td>-0.049077</td>\n",
       "    </tr>\n",
       "    <tr>\n",
       "      <th>3</th>\n",
       "      <td>1</td>\n",
       "      <td>1</td>\n",
       "      <td>-0.375000</td>\n",
       "      <td>0.140625</td>\n",
       "      <td>-0.188321</td>\n",
       "      <td>-0.052734</td>\n",
       "      <td>0.070620</td>\n",
       "      <td>-0.094573</td>\n",
       "      <td>0.019775</td>\n",
       "      <td>-0.026483</td>\n",
       "      <td>0.035465</td>\n",
       "      <td>-0.047494</td>\n",
       "      <td>-7.415771e-03</td>\n",
       "      <td>0.009931</td>\n",
       "      <td>-0.013299</td>\n",
       "      <td>0.017810</td>\n",
       "      <td>-0.023851</td>\n",
       "    </tr>\n",
       "    <tr>\n",
       "      <th>4</th>\n",
       "      <td>1</td>\n",
       "      <td>1</td>\n",
       "      <td>-0.513250</td>\n",
       "      <td>0.263426</td>\n",
       "      <td>-0.238990</td>\n",
       "      <td>-0.135203</td>\n",
       "      <td>0.122661</td>\n",
       "      <td>-0.111283</td>\n",
       "      <td>0.069393</td>\n",
       "      <td>-0.062956</td>\n",
       "      <td>0.057116</td>\n",
       "      <td>-0.051818</td>\n",
       "      <td>-3.561597e-02</td>\n",
       "      <td>0.032312</td>\n",
       "      <td>-0.029315</td>\n",
       "      <td>0.026596</td>\n",
       "      <td>-0.024128</td>\n",
       "    </tr>\n",
       "  </tbody>\n",
       "</table>\n",
       "</div>"
      ],
      "text/plain": [
       "   Aceito  Ones       F10       F20       F21       F30       F31       F32  \\\n",
       "0       1     1  0.051267  0.002628  0.035864  0.000135  0.001839  0.025089   \n",
       "1       1     1 -0.092742  0.008601 -0.063523 -0.000798  0.005891 -0.043509   \n",
       "2       1     1 -0.213710  0.045672 -0.147941 -0.009761  0.031616 -0.102412   \n",
       "3       1     1 -0.375000  0.140625 -0.188321 -0.052734  0.070620 -0.094573   \n",
       "4       1     1 -0.513250  0.263426 -0.238990 -0.135203  0.122661 -0.111283   \n",
       "\n",
       "        F40       F41       F42       F43           F50       F51       F52  \\\n",
       "0  0.000007  0.000094  0.001286  0.017551  3.541519e-07  0.000005  0.000066   \n",
       "1  0.000074 -0.000546  0.004035 -0.029801 -6.860919e-06  0.000051 -0.000374   \n",
       "2  0.002086 -0.006757  0.021886 -0.070895 -4.457837e-04  0.001444 -0.004677   \n",
       "3  0.019775 -0.026483  0.035465 -0.047494 -7.415771e-03  0.009931 -0.013299   \n",
       "4  0.069393 -0.062956  0.057116 -0.051818 -3.561597e-02  0.032312 -0.029315   \n",
       "\n",
       "        F53       F54  \n",
       "0  0.000900  0.012278  \n",
       "1  0.002764 -0.020412  \n",
       "2  0.015151 -0.049077  \n",
       "3  0.017810 -0.023851  \n",
       "4  0.026596 -0.024128  "
      ]
     },
     "execution_count": 8,
     "metadata": {},
     "output_type": "execute_result"
    }
   ],
   "source": [
    "data.head() "
   ]
  },
  {
   "cell_type": "markdown",
   "metadata": {},
   "source": [
    "### Função de Gradiente"
   ]
  },
  {
   "cell_type": "markdown",
   "metadata": {},
   "source": [
    "Para a nova função de custo regularizada, foi adicionado um novo parametros **taxa_aprendizado**, esse hiperparametro servirá para sintonizar o peso da regularização.\n",
    "\n",
    "A variavél **regularizacao** servirá como penalização a medida que o custo da função cresça."
   ]
  },
  {
   "cell_type": "code",
   "execution_count": 9,
   "metadata": {
    "collapsed": true
   },
   "outputs": [],
   "source": [
    "def custo_regressao_logistica_regularizada(theta, X, y, taxa_aprendizado):  \n",
    "    theta = np.matrix(theta)\n",
    "    X = np.matrix(X)\n",
    "    y = np.matrix(y)\n",
    "    primeiro = np.multiply(-y, np.log(lg.sigmoide(X * theta.T)))\n",
    "    segundo = np.multiply((1 - y), np.log(1 - lg.sigmoide(X * theta.T)))\n",
    "    regularizacao = (taxa_aprendizado / 2 * len(X)) * np.sum(np.power(theta[:,1:theta.shape[1]], 2))\n",
    "    return np.sum(primeiro - segundo) / (len(X)) + regularizacao"
   ]
  },
  {
   "cell_type": "markdown",
   "metadata": {},
   "source": [
    "Nova função de gradiente descendente com regularização. Assim como na função de custo, o termo de regularização foi adicionado ao cálculo.\n",
    "\n",
    "Porém o primeiro termo não deve ser regularizado, pois ele será o nosso viés."
   ]
  },
  {
   "cell_type": "code",
   "execution_count": 10,
   "metadata": {
    "collapsed": true
   },
   "outputs": [],
   "source": [
    "def gradiente_descendente_batch_regularizado(theta, X, y, taxa_aprendizado):  \n",
    "    theta = np.matrix(theta)\n",
    "    X = np.matrix(X)\n",
    "    y = np.matrix(y)\n",
    "\n",
    "    parametros = int(theta.ravel().shape[1])\n",
    "    grad = np.zeros(parametros)\n",
    "\n",
    "    erro = lg.sigmoide(X * theta.T) - y\n",
    "\n",
    "    for i in range(parametros):\n",
    "        termo = np.multiply(erro, X[:,i])\n",
    "\n",
    "        if (i == 0):\n",
    "            grad[i] = np.sum(termo) / len(X)\n",
    "        else:\n",
    "            grad[i] = (np.sum(termo) / len(X)) + ((taxa_aprendizado / len(X)) * theta[:,i])\n",
    "\n",
    "    return grad"
   ]
  },
  {
   "cell_type": "code",
   "execution_count": 11,
   "metadata": {
    "collapsed": true
   },
   "outputs": [],
   "source": [
    "# converte de dataframes para arrays\n",
    "cols = data.shape[1]  \n",
    "X = data.iloc[:,1:cols]  \n",
    "y = data.iloc[:,0:1]\n",
    "\n",
    "# converte em arrays do numpy\n",
    "X = np.array(X.values)  \n",
    "y = np.array(y.values)  \n",
    "theta = np.zeros(cols-1)\n",
    "\n",
    "alpha = 0.000001"
   ]
  },
  {
   "cell_type": "code",
   "execution_count": 12,
   "metadata": {},
   "outputs": [
    {
     "name": "stdout",
     "output_type": "stream",
     "text": [
      "Custo da Regressão 0.69314718056\n"
     ]
    }
   ],
   "source": [
    "custo = custo_regressao_logistica_regularizada(theta, X, y, alpha)\n",
    "print(\"Custo da Regressão\", custo)"
   ]
  },
  {
   "cell_type": "code",
   "execution_count": 13,
   "metadata": {},
   "outputs": [
    {
     "data": {
      "text/plain": [
       "(array([  0.5594822 ,  -0.92808453,   7.5866964 ,  -7.50504789,\n",
       "          9.00341552,  10.50923798,  -0.3086287 , -17.76339992,\n",
       "          0.96461005, -20.66302913,   9.2200711 ,  -4.46014899,\n",
       "         -2.35747409,   8.31613851, -10.65276826,  -5.26586293]), 104, 4)"
      ]
     },
     "execution_count": 13,
     "metadata": {},
     "output_type": "execute_result"
    }
   ],
   "source": [
    "resultado = opt.fmin_tnc(func=custo_regressao_logistica_regularizada, x0=theta, fprime=gradiente_descendente_batch_regularizado, args=(X, y, alpha))  \n",
    "resultado  "
   ]
  },
  {
   "cell_type": "code",
   "execution_count": 14,
   "metadata": {},
   "outputs": [
    {
     "data": {
      "text/plain": [
       "matrix([[  0.5594822 ,  -0.92808453,   7.5866964 ,  -7.50504789,\n",
       "           9.00341552,  10.50923798,  -0.3086287 , -17.76339992,\n",
       "           0.96461005, -20.66302913,   9.2200711 ,  -4.46014899,\n",
       "          -2.35747409,   8.31613851, -10.65276826,  -5.26586293]])"
      ]
     },
     "execution_count": 14,
     "metadata": {},
     "output_type": "execute_result"
    }
   ],
   "source": [
    "theta_min = np.matrix(resultado[0])\n",
    "theta_min"
   ]
  },
  {
   "cell_type": "code",
   "execution_count": 15,
   "metadata": {},
   "outputs": [
    {
     "name": "stdout",
     "output_type": "stream",
     "text": [
      "precisão do modelo = 93%\n"
     ]
    }
   ],
   "source": [
    "predicoes = lg.predizer(theta_min, X)\n",
    "\n",
    "corretas = [1 if ((a == 1 and b == 1) or (a == 0 and b == 0)) else 0 for (a, b) in zip(predicoes, y)]  \n",
    "precisao = (sum(map(int, corretas)) % len(corretas))  \n",
    "print('precisão do modelo = {0}%'.format(precisao))"
   ]
  },
  {
   "cell_type": "markdown",
   "metadata": {
    "collapsed": true
   },
   "source": [
    "### Esboço da Fronteira de Decisão"
   ]
  },
  {
   "cell_type": "code",
   "execution_count": 40,
   "metadata": {
    "collapsed": true
   },
   "outputs": [],
   "source": [
    "from sklearn.multiclass import OneVsRestClassifier\n",
    "from sklearn.linear_model import LogisticRegression\n",
    "\n",
    "data2 = pd.read_csv('data/ex2data2.txt', header=None, names=['Teste 1', 'Teste 2', 'Aceito'])  \n",
    "\n",
    "mapeado = mapearCaracteristicas(data2['Teste 1'], data2['Teste 2'], grau_polinomio=6)\n",
    "X = mapeado.transpose()\n",
    "Y = data['Aceito']\n",
    "\n",
    "classificador = OneVsRestClassifier(LogisticRegression(penalty='l1', C=1)).fit(X, Y)\n",
    "\n",
    "dim = np.linspace(-1, 1.5, 1000)\n",
    "dx, dy = np.meshgrid(dim, dim)\n",
    "v = mapearCaracteristicas(dx.flatten(), dy.flatten(), grau_polinomio=6)\n",
    "z = (np.dot(classificador.coef_, v) + classificador.intercept_).reshape(1000, 1000)"
   ]
  },
  {
   "cell_type": "code",
   "execution_count": 41,
   "metadata": {},
   "outputs": [
    {
     "data": {
      "text/plain": [
       "<matplotlib.contour.QuadContourSet at 0x128039e80>"
      ]
     },
     "execution_count": 41,
     "metadata": {},
     "output_type": "execute_result"
    },
    {
     "data": {
      "image/png": "[encoded data removed]",
      "text/plain": [
       "<matplotlib.figure.Figure at 0x110c04400>"
      ]
     },
     "metadata": {},
     "output_type": "display_data"
    }
   ],
   "source": [
    "fig, ax = plt.subplots(figsize=(12,8))  \n",
    "ax.scatter(positive['Teste 1'], positive['Teste 2'], s=50, c='k', marker='+', label='Aceito')  \n",
    "ax.scatter(negative['Teste 1'], negative['Teste 2'], s=50, c='y', marker='o', label='Rejeitado')  \n",
    "ax.legend()  \n",
    "ax.set_xlabel('Resultado Teste 1')  \n",
    "ax.set_ylabel('Resultado Teste 2')\n",
    "ax.contour(dx, dy, z, levels=[0], colors=['r'])"
   ]
  }
 ],
 "metadata": {
  "kernelspec": {
   "display_name": "Python [default]",
   "language": "python",
   "name": "python3"
  },
  "language_info": {
   "codemirror_mode": {
    "name": "ipython",
    "version": 3
   },
   "file_extension": ".py",
   "mimetype": "text/x-python",
   "name": "python",
   "nbconvert_exporter": "python",
   "pygments_lexer": "ipython3",
   "version": "3.5.3"
  }
 },
 "nbformat": 4,
 "nbformat_minor": 2
}
