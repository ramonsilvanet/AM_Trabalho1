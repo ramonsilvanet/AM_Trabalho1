{
 "cells": [
  {
   "cell_type": "markdown",
   "metadata": {},
   "source": [
    "# 2 Regressão Linear com Regularização"
   ]
  },
  {
   "cell_type": "markdown",
   "metadata": {},
   "source": [
    "Carregando os dados que estão em formato MatLab"
   ]
  },
  {
   "cell_type": "code",
   "execution_count": 27,
   "metadata": {
    "collapsed": true
   },
   "outputs": [],
   "source": [
    "import scipy.io as spio\n",
    "import numpy as np  \n",
    "import matplotlib.pyplot as plt\n",
    "from scipy.optimize import minimize\n",
    "\n",
    "from aprendizado_maquina import regressao_linear as rl\n",
    "%matplotlib inline"
   ]
  },
  {
   "cell_type": "code",
   "execution_count": 2,
   "metadata": {},
   "outputs": [
    {
     "data": {
      "text/plain": [
       "dict_keys(['__header__', 'yval', '__globals__', 'Xval', 'y', 'ytest', 'Xtest', 'X', '__version__'])"
      ]
     },
     "execution_count": 2,
     "metadata": {},
     "output_type": "execute_result"
    }
   ],
   "source": [
    "data = spio.loadmat('data/ex5data1.mat')\n",
    "data.keys()"
   ]
  },
  {
   "cell_type": "code",
   "execution_count": 36,
   "metadata": {},
   "outputs": [
    {
     "name": "stdout",
     "output_type": "stream",
     "text": [
      "X_train: (12, 2)\n",
      "y_train: (12, 1)\n",
      "Xval: (21, 2)\n",
      "yval: (21, 1)\n"
     ]
    }
   ],
   "source": [
    "y_train = data['y']\n",
    "X_train = np.c_[np.ones_like(data['X']), data['X']]\n",
    "\n",
    "yval = data['yval']\n",
    "Xval = np.c_[np.ones_like(data['Xval']), data['Xval']]\n",
    "\n",
    "print('X_train:', X.shape)\n",
    "print('y_train:', y.shape)\n",
    "print('Xval:', Xval.shape)\n",
    "print('yval:', yval.shape)"
   ]
  },
  {
   "cell_type": "markdown",
   "metadata": {},
   "source": [
    "### 2.1 Visualização dos Dados"
   ]
  },
  {
   "cell_type": "code",
   "execution_count": 37,
   "metadata": {},
   "outputs": [
    {
     "data": {
      "text/plain": [
       "<matplotlib.collections.PathCollection at 0x7fb6f98ca3c8>"
      ]
     },
     "execution_count": 37,
     "metadata": {},
     "output_type": "execute_result"
    },
    {
     "data": {
      "image/png": "[encoded data removed]",
      "text/plain": [
       "<matplotlib.figure.Figure at 0x7fb6f9920780>"
      ]
     },
     "metadata": {},
     "output_type": "display_data"
    }
   ],
   "source": [
    "fig, ax = plt.subplots(figsize=(12,8)) \n",
    "ax.set_xlabel(\"Alterações no Nível de Água\")  \n",
    "ax.set_ylabel('Volume de Vazão')\n",
    "ax.scatter(X[:,1], y, marker='x', c='r')"
   ]
  },
  {
   "cell_type": "markdown",
   "metadata": {
    "collapsed": true
   },
   "source": [
    "### 2.2 Função de custo da regressão linear regularizada"
   ]
  },
  {
   "cell_type": "code",
   "execution_count": 81,
   "metadata": {},
   "outputs": [],
   "source": [
    "def custo_regressao_linear_regularizada(theta, X, y, reg):\n",
    "    m = y.size\n",
    "    h = X.dot(theta)\n",
    "    J = (1/(2*m))*np.sum(np.square(h-y)) + (reg/(2*m))*np.sum(np.square(theta[1:]))\n",
    "    return(J)"
   ]
  },
  {
   "cell_type": "markdown",
   "metadata": {
    "collapsed": true
   },
   "source": [
    "### 2.3 Gradiente na regressão linear regularizada"
   ]
  },
  {
   "cell_type": "code",
   "execution_count": 48,
   "metadata": {},
   "outputs": [],
   "source": [
    "def gradiente_descendente_batch_com_regularicao(theta, X, y, reg):\n",
    "    m = y.size\n",
    "    h = X.dot(theta.reshape(-1,1))\n",
    "    grad = (1/m)*(X.T.dot(h-y))+ (reg/m)*np.r_[[[0]],theta[1:].reshape(-1,1)]    \n",
    "    return(grad.flatten())"
   ]
  },
  {
   "cell_type": "code",
   "execution_count": 82,
   "metadata": {},
   "outputs": [
    {
     "name": "stdout",
     "output_type": "stream",
     "text": [
      "Custo 303.951525554\n",
      "Gradiente [   -72.49898456  12411.6391135 ]\n"
     ]
    }
   ],
   "source": [
    "theta_inicial = np.ones((X_train.shape[1],1))\n",
    "j = custo_regressao_linear_regularizada(theta_inicial, X_train, y_train, 0)\n",
    "gradiente = gradiente_descendente_batch_com_regularicao(initial_theta, X_train, y_train, 0)\n",
    "print(\"Custo\", j)\n",
    "print(\"Gradiente\", gradiente)"
   ]
  },
  {
   "cell_type": "code",
   "execution_count": 84,
   "metadata": {},
   "outputs": [
    {
     "name": "stdout",
     "output_type": "stream",
     "text": [
      "Gradiente [ -15.30301567  598.16741084]\n"
     ]
    }
   ],
   "source": [
    "regularizacao = 0\n",
    "max_iteracoes = 1000\n",
    "g = gradiente_descendente_batch_regularizado(X, y, theta_inicial, regularizacao)\n",
    "print(\"Gradiente\", g)"
   ]
  },
  {
   "cell_type": "markdown",
   "metadata": {},
   "source": [
    "### 2.4 Ajustando os parâmetros da regressão linear"
   ]
  },
  {
   "cell_type": "code",
   "execution_count": 70,
   "metadata": {
    "collapsed": true
   },
   "outputs": [],
   "source": [
    "def treinar_modelo(X, y, regularizacao):        \n",
    "    initial_theta = np.array([[15],[15]])\n",
    "    resultado = minimize(custo_regressao_linear_regularizada, initial_theta, args=(X,y,regularizacao), \n",
    "               method=None, jac=gradiente_descendente_batch_com_regularicao, options={'maxiter':5000})\n",
    "    return resultado"
   ]
  },
  {
   "cell_type": "code",
   "execution_count": 72,
   "metadata": {},
   "outputs": [
    {
     "name": "stdout",
     "output_type": "stream",
     "text": [
      "      fun: 1604.4002999186634\n",
      " hess_inv: array([[ 1.03142187,  0.00617881],\n",
      "       [ 0.00617881,  0.001215  ]])\n",
      "      jac: array([  3.42437190e-12,  -5.70370264e-10])\n",
      "  message: 'Optimization terminated successfully.'\n",
      "     nfev: 6\n",
      "      nit: 4\n",
      "     njev: 6\n",
      "   status: 0\n",
      "  success: True\n",
      "        x: array([ 13.08790351,   0.36777923])\n"
     ]
    }
   ],
   "source": [
    "fit = treinar_modelo(X_train, y_train, 0)\n",
    "print(fit)"
   ]
  },
  {
   "cell_type": "markdown",
   "metadata": {},
   "source": [
    "### Desenhando o Gráfico"
   ]
  },
  {
   "cell_type": "code",
   "execution_count": 80,
   "metadata": {},
   "outputs": [
    {
     "data": {
      "text/plain": [
       "<matplotlib.legend.Legend at 0x7fb6f95ae860>"
      ]
     },
     "execution_count": 80,
     "metadata": {},
     "output_type": "execute_result"
    },
    {
     "data": {
      "image/png": "[encoded data removed]",
      "text/plain": [
       "<matplotlib.figure.Figure at 0x7fb6f96085c0>"
      ]
     },
     "metadata": {},
     "output_type": "display_data"
    }
   ],
   "source": [
    "fig, ax = plt.subplots(figsize=(12,8)) \n",
    "ax.plot(np.linspace(-50,40), (fit.x[0]+ (fit.x[1]*np.linspace(-50,40))), label='Otimização do Modelo')\n",
    "ax.scatter(X_train[:,1], y_train, s=50, c='r', marker='x', linewidths=1)\n",
    "ax.set_xlabel(\"Alterações no Nível de Água\")  \n",
    "ax.set_ylabel('Volume de Vazão')\n",
    "ax.set_ylim(ymin=-5)\n",
    "ax.set_xlim(xmin=-50)\n",
    "ax.legend(loc=4)"
   ]
  }
 ],
 "metadata": {
  "kernelspec": {
   "display_name": "Python [conda root]",
   "language": "python",
   "name": "conda-root-py"
  },
  "language_info": {
   "codemirror_mode": {
    "name": "ipython",
    "version": 3
   },
   "file_extension": ".py",
   "mimetype": "text/x-python",
   "name": "python",
   "nbconvert_exporter": "python",
   "pygments_lexer": "ipython3",
   "version": "3.5.3"
  }
 },
 "nbformat": 4,
 "nbformat_minor": 2
}
