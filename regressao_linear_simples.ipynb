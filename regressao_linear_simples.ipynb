{
 "cells": [
  {
   "cell_type": "markdown",
   "metadata": {},
   "source": [
    "# 1 Regressão Linear com uma Variável"
   ]
  },
  {
   "cell_type": "code",
   "execution_count": 14,
   "metadata": {
    "collapsed": true
   },
   "outputs": [],
   "source": [
    "import numpy as np  \n",
    "import pandas as pd  \n",
    "import matplotlib.pyplot as plt  \n",
    "%matplotlib inline"
   ]
  },
  {
   "cell_type": "code",
   "execution_count": 15,
   "metadata": {},
   "outputs": [
    {
     "data": {
      "text/html": [
       "<div>\n",
       "<style>\n",
       "    .dataframe thead tr:only-child th {\n",
       "        text-align: right;\n",
       "    }\n",
       "\n",
       "    .dataframe thead th {\n",
       "        text-align: left;\n",
       "    }\n",
       "\n",
       "    .dataframe tbody tr th {\n",
       "        vertical-align: top;\n",
       "    }\n",
       "</style>\n",
       "<table border=\"1\" class=\"dataframe\">\n",
       "  <thead>\n",
       "    <tr style=\"text-align: right;\">\n",
       "      <th></th>\n",
       "      <th>Populacao x (10.000)</th>\n",
       "      <th>Lucro x 10.000</th>\n",
       "    </tr>\n",
       "  </thead>\n",
       "  <tbody>\n",
       "    <tr>\n",
       "      <th>0</th>\n",
       "      <td>6.1101</td>\n",
       "      <td>17.5920</td>\n",
       "    </tr>\n",
       "    <tr>\n",
       "      <th>1</th>\n",
       "      <td>5.5277</td>\n",
       "      <td>9.1302</td>\n",
       "    </tr>\n",
       "    <tr>\n",
       "      <th>2</th>\n",
       "      <td>8.5186</td>\n",
       "      <td>13.6620</td>\n",
       "    </tr>\n",
       "    <tr>\n",
       "      <th>3</th>\n",
       "      <td>7.0032</td>\n",
       "      <td>11.8540</td>\n",
       "    </tr>\n",
       "    <tr>\n",
       "      <th>4</th>\n",
       "      <td>5.8598</td>\n",
       "      <td>6.8233</td>\n",
       "    </tr>\n",
       "  </tbody>\n",
       "</table>\n",
       "</div>"
      ],
      "text/plain": [
       "   Populacao x (10.000)  Lucro x 10.000\n",
       "0                6.1101         17.5920\n",
       "1                5.5277          9.1302\n",
       "2                8.5186         13.6620\n",
       "3                7.0032         11.8540\n",
       "4                5.8598          6.8233"
      ]
     },
     "execution_count": 15,
     "metadata": {},
     "output_type": "execute_result"
    }
   ],
   "source": [
    "x_label = 'Populacao x (10.000)'\n",
    "y_label = 'Lucro x 10.000'\n",
    "\n",
    "# Carregar dados\n",
    "data = pd.read_csv('data/ex1data1.txt', header=None, names=[x_label, y_label])  \n",
    "data.head() "
   ]
  },
  {
   "cell_type": "markdown",
   "metadata": {},
   "source": [
    "## 1.1 Visualização dos Dados\n",
    "\n",
    "Gerando um gráfico de dispersão usando a biblioteca Matplotlib"
   ]
  },
  {
   "cell_type": "code",
   "execution_count": 16,
   "metadata": {},
   "outputs": [
    {
     "data": {
      "text/plain": [
       "<matplotlib.axes._subplots.AxesSubplot at 0x7f29f2973ad0>"
      ]
     },
     "execution_count": 16,
     "metadata": {},
     "output_type": "execute_result"
    },
    {
     "data": {
      "image/png": "[encoded data removed]",
      "text/plain": [
       "<matplotlib.figure.Figure at 0x7f29ef2cdb90>"
      ]
     },
     "metadata": {},
     "output_type": "display_data"
    }
   ],
   "source": [
    "data.plot(kind='scatter', x=x_label, y=y_label, figsize=(12,8))  "
   ]
  },
  {
   "cell_type": "markdown",
   "metadata": {
    "collapsed": true
   },
   "source": [
    "## 1.2 Gradiente Descendente"
   ]
  },
  {
   "cell_type": "code",
   "execution_count": 17,
   "metadata": {
    "collapsed": true
   },
   "outputs": [],
   "source": [
    "def computarCusto(X, y, theta):\n",
    "    inner = np.power(((X * theta.T) - y), 2)\n",
    "    return np.sum(inner) / (2 * len(X))"
   ]
  },
  {
   "cell_type": "code",
   "execution_count": 18,
   "metadata": {},
   "outputs": [
    {
     "data": {
      "text/plain": [
       "((97, 2), (1, 2), (97, 1))"
      ]
     },
     "execution_count": 18,
     "metadata": {},
     "output_type": "execute_result"
    }
   ],
   "source": [
    "# append a ones column to the front of the data set\n",
    "data.insert(0, 'Ones', 1)\n",
    "# set X (training data) and y (target variable)\n",
    "cols = data.shape[1]  \n",
    "X = data.iloc[:,0:cols-1]  \n",
    "y = data.iloc[:,cols-1:cols] \n",
    "\n",
    "\n",
    "# convert from data frames to numpy matrices\n",
    "X = np.matrix(X.values)  \n",
    "y = np.matrix(y.values)  \n",
    "theta = np.matrix(np.array([0,0]))\n",
    "# set X (training data) and y (target variable)\n",
    "cols = data.shape[1]  \n",
    "X = data.iloc[:,0:cols-1]  \n",
    "y = data.iloc[:,cols-1:cols] \n",
    "\n",
    "\n",
    "# convert from data frames to numpy matrices\n",
    "X = np.matrix(X.values)  \n",
    "y = np.matrix(y.values)  \n",
    "theta = np.matrix(np.array([0,0]))  \n",
    "\n",
    "X.shape, theta.shape, y.shape  "
   ]
  },
  {
   "cell_type": "code",
   "execution_count": 19,
   "metadata": {},
   "outputs": [
    {
     "data": {
      "text/plain": [
       "32.072733877455676"
      ]
     },
     "execution_count": 19,
     "metadata": {},
     "output_type": "execute_result"
    }
   ],
   "source": [
    "computarCusto(X, y, theta)"
   ]
  },
  {
   "cell_type": "code",
   "execution_count": 20,
   "metadata": {
    "collapsed": true
   },
   "outputs": [],
   "source": [
    "def gradiente_descendente(X, y, theta, alpha, iters):  \n",
    "    temp = np.matrix(np.zeros(theta.shape))\n",
    "    parameters = int(theta.ravel().shape[1])\n",
    "    cost = np.zeros(iters)\n",
    "\n",
    "    for i in range(iters):\n",
    "        error = (X * theta.T) - y\n",
    "\n",
    "        for j in range(parameters):\n",
    "            term = np.multiply(error, X[:,j])\n",
    "            temp[0,j] = theta[0,j] - ((alpha / len(X)) * np.sum(term))\n",
    "\n",
    "        theta = temp\n",
    "        cost[i] = computarCusto(X, y, theta)\n",
    "\n",
    "    return theta, cost"
   ]
  },
  {
   "cell_type": "code",
   "execution_count": 21,
   "metadata": {},
   "outputs": [
    {
     "data": {
      "text/plain": [
       "matrix([[-3.24140214,  1.1272942 ]])"
      ]
     },
     "execution_count": 21,
     "metadata": {},
     "output_type": "execute_result"
    }
   ],
   "source": [
    "# initialize variables for learning rate and iterations\n",
    "alpha = 0.01  \n",
    "iters = 1000\n",
    "\n",
    "# perform gradient descent to \"fit\" the model parameters\n",
    "g, cost = gradiente_descendente(X, y, theta, alpha, iters)  \n",
    "g  "
   ]
  },
  {
   "cell_type": "code",
   "execution_count": 22,
   "metadata": {},
   "outputs": [
    {
     "data": {
      "text/plain": [
       "4.5159555030789118"
      ]
     },
     "execution_count": 22,
     "metadata": {},
     "output_type": "execute_result"
    }
   ],
   "source": [
    "computarCusto(X, y, g)  "
   ]
  },
  {
   "cell_type": "code",
   "execution_count": 23,
   "metadata": {},
   "outputs": [
    {
     "data": {
      "text/plain": [
       "<matplotlib.text.Text at 0x7f29eefdf610>"
      ]
     },
     "execution_count": 23,
     "metadata": {},
     "output_type": "execute_result"
    },
    {
     "data": {
      "image/png": "[encoded data removed]",
      "text/plain": [
       "<matplotlib.figure.Figure at 0x7f29ef0cf750>"
      ]
     },
     "metadata": {},
     "output_type": "display_data"
    }
   ],
   "source": [
    "x = np.linspace(data[x_label].min(), data[x_label].max(), 100)  \n",
    "f = g[0, 0] + (g[0, 1] * x)\n",
    "\n",
    "fig, ax = plt.subplots(figsize=(12,8))  \n",
    "ax.plot(x, f, 'r', label='Prediction')  \n",
    "ax.scatter(data[x_label], data[y_label], label='Traning Data')  \n",
    "ax.legend(loc=2)  \n",
    "ax.set_xlabel(x_label)  \n",
    "ax.set_ylabel(y_label)  \n",
    "ax.set_title('Predicted Profit vs. Population Size') "
   ]
  },
  {
   "cell_type": "code",
   "execution_count": 36,
   "metadata": {},
   "outputs": [
    {
     "ename": "ValueError",
     "evalue": "could not broadcast input array from shape (97,2) into shape (97)",
     "output_type": "error",
     "traceback": [
      "\u001b[0;31m---------------------------------------------------------------------------\u001b[0m",
      "\u001b[0;31mValueError\u001b[0m                                Traceback (most recent call last)",
      "\u001b[0;32m<ipython-input-36-6c5147fd61cb>\u001b[0m in \u001b[0;36m<module>\u001b[0;34m()\u001b[0m\n\u001b[1;32m      3\u001b[0m \u001b[0;34m\u001b[0m\u001b[0m\n\u001b[1;32m      4\u001b[0m \u001b[0mit\u001b[0m \u001b[0;34m=\u001b[0m \u001b[0mnp\u001b[0m\u001b[0;34m.\u001b[0m\u001b[0mones\u001b[0m\u001b[0;34m(\u001b[0m\u001b[0mshape\u001b[0m\u001b[0;34m=\u001b[0m\u001b[0;34m(\u001b[0m\u001b[0mm\u001b[0m\u001b[0;34m,\u001b[0m \u001b[0;36m2\u001b[0m\u001b[0;34m)\u001b[0m\u001b[0;34m)\u001b[0m\u001b[0;34m\u001b[0m\u001b[0m\n\u001b[0;32m----> 5\u001b[0;31m \u001b[0mit\u001b[0m\u001b[0;34m[\u001b[0m\u001b[0;34m:\u001b[0m\u001b[0;34m,\u001b[0m \u001b[0;36m1\u001b[0m\u001b[0;34m]\u001b[0m \u001b[0;34m=\u001b[0m \u001b[0mX\u001b[0m\u001b[0;34m\u001b[0m\u001b[0m\n\u001b[0m\u001b[1;32m      6\u001b[0m \u001b[0;34m\u001b[0m\u001b[0m\n\u001b[1;32m      7\u001b[0m \u001b[0;31m#Grid over which we will calculate J\u001b[0m\u001b[0;34m\u001b[0m\u001b[0;34m\u001b[0m\u001b[0m\n",
      "\u001b[0;31mValueError\u001b[0m: could not broadcast input array from shape (97,2) into shape (97)"
     ]
    }
   ],
   "source": [
    "#number of training samples\n",
    "m = y.size\n",
    "\n",
    "it = np.ones(shape=(m, 2))\n",
    "it[:, 1] = X[:,]\n",
    "\n",
    "#Grid over which we will calculate J\n",
    "theta0_vals = np.linspace(-10, 10, 100)\n",
    "theta1_vals = np.linspace(-1, 4, 100)\n",
    "\n",
    "\n",
    "#initialize J_vals to a matrix of 0's\n",
    "J_vals = np.zeros(shape=(theta0_vals.size, theta1_vals.size))\n",
    "\n",
    "#Fill out J_vals\n",
    "for t1, element in enumerate(theta0_vals):\n",
    "    for t2, element2 in enumerate(theta1_vals):\n",
    "        thetaT = np.zeros(shape=(2, 1))        \n",
    "        thetaT[0][0] = element\n",
    "        thetaT[1][0] = element2\n",
    "        thetaT = np.matrix(thetaT.T)\n",
    "        J_vals[t1, t2] = computarCusto(it, y, thetaT)\n",
    "\n",
    "\n",
    "\n",
    "        \n",
    "#Contour plot\n",
    "J_vals = J_vals.T\n",
    "\n",
    "plt.figure(figsize=(12,8))\n",
    "\n",
    "#Plot J_vals as 15 contours spaced logarithmically between 0.01 and 100\n",
    "plt.contour(theta0_vals, theta1_vals, J_vals, logspace(-2, 3, 20))\n",
    "plt.xlabel('theta_0')\n",
    "plt.ylabel('theta_1')\n",
    "plt.show()"
   ]
  },
  {
   "cell_type": "code",
   "execution_count": 30,
   "metadata": {},
   "outputs": [
    {
     "data": {
      "text/plain": [
       "matrix([[  1.    ,   6.1101],\n",
       "        [  1.    ,   5.5277],\n",
       "        [  1.    ,   8.5186],\n",
       "        [  1.    ,   7.0032],\n",
       "        [  1.    ,   5.8598],\n",
       "        [  1.    ,   8.3829],\n",
       "        [  1.    ,   7.4764],\n",
       "        [  1.    ,   8.5781],\n",
       "        [  1.    ,   6.4862],\n",
       "        [  1.    ,   5.0546],\n",
       "        [  1.    ,   5.7107],\n",
       "        [  1.    ,  14.164 ],\n",
       "        [  1.    ,   5.734 ],\n",
       "        [  1.    ,   8.4084],\n",
       "        [  1.    ,   5.6407],\n",
       "        [  1.    ,   5.3794],\n",
       "        [  1.    ,   6.3654],\n",
       "        [  1.    ,   5.1301],\n",
       "        [  1.    ,   6.4296],\n",
       "        [  1.    ,   7.0708],\n",
       "        [  1.    ,   6.1891],\n",
       "        [  1.    ,  20.27  ],\n",
       "        [  1.    ,   5.4901],\n",
       "        [  1.    ,   6.3261],\n",
       "        [  1.    ,   5.5649],\n",
       "        [  1.    ,  18.945 ],\n",
       "        [  1.    ,  12.828 ],\n",
       "        [  1.    ,  10.957 ],\n",
       "        [  1.    ,  13.176 ],\n",
       "        [  1.    ,  22.203 ],\n",
       "        [  1.    ,   5.2524],\n",
       "        [  1.    ,   6.5894],\n",
       "        [  1.    ,   9.2482],\n",
       "        [  1.    ,   5.8918],\n",
       "        [  1.    ,   8.2111],\n",
       "        [  1.    ,   7.9334],\n",
       "        [  1.    ,   8.0959],\n",
       "        [  1.    ,   5.6063],\n",
       "        [  1.    ,  12.836 ],\n",
       "        [  1.    ,   6.3534],\n",
       "        [  1.    ,   5.4069],\n",
       "        [  1.    ,   6.8825],\n",
       "        [  1.    ,  11.708 ],\n",
       "        [  1.    ,   5.7737],\n",
       "        [  1.    ,   7.8247],\n",
       "        [  1.    ,   7.0931],\n",
       "        [  1.    ,   5.0702],\n",
       "        [  1.    ,   5.8014],\n",
       "        [  1.    ,  11.7   ],\n",
       "        [  1.    ,   5.5416],\n",
       "        [  1.    ,   7.5402],\n",
       "        [  1.    ,   5.3077],\n",
       "        [  1.    ,   7.4239],\n",
       "        [  1.    ,   7.6031],\n",
       "        [  1.    ,   6.3328],\n",
       "        [  1.    ,   6.3589],\n",
       "        [  1.    ,   6.2742],\n",
       "        [  1.    ,   5.6397],\n",
       "        [  1.    ,   9.3102],\n",
       "        [  1.    ,   9.4536],\n",
       "        [  1.    ,   8.8254],\n",
       "        [  1.    ,   5.1793],\n",
       "        [  1.    ,  21.279 ],\n",
       "        [  1.    ,  14.908 ],\n",
       "        [  1.    ,  18.959 ],\n",
       "        [  1.    ,   7.2182],\n",
       "        [  1.    ,   8.2951],\n",
       "        [  1.    ,  10.236 ],\n",
       "        [  1.    ,   5.4994],\n",
       "        [  1.    ,  20.341 ],\n",
       "        [  1.    ,  10.136 ],\n",
       "        [  1.    ,   7.3345],\n",
       "        [  1.    ,   6.0062],\n",
       "        [  1.    ,   7.2259],\n",
       "        [  1.    ,   5.0269],\n",
       "        [  1.    ,   6.5479],\n",
       "        [  1.    ,   7.5386],\n",
       "        [  1.    ,   5.0365],\n",
       "        [  1.    ,  10.274 ],\n",
       "        [  1.    ,   5.1077],\n",
       "        [  1.    ,   5.7292],\n",
       "        [  1.    ,   5.1884],\n",
       "        [  1.    ,   6.3557],\n",
       "        [  1.    ,   9.7687],\n",
       "        [  1.    ,   6.5159],\n",
       "        [  1.    ,   8.5172],\n",
       "        [  1.    ,   9.1802],\n",
       "        [  1.    ,   6.002 ],\n",
       "        [  1.    ,   5.5204],\n",
       "        [  1.    ,   5.0594],\n",
       "        [  1.    ,   5.7077],\n",
       "        [  1.    ,   7.6366],\n",
       "        [  1.    ,   5.8707],\n",
       "        [  1.    ,   5.3054],\n",
       "        [  1.    ,   8.2934],\n",
       "        [  1.    ,  13.394 ],\n",
       "        [  1.    ,   5.4369]])"
      ]
     },
     "execution_count": 30,
     "metadata": {},
     "output_type": "execute_result"
    }
   ],
   "source": [
    "X"
   ]
  }
 ],
 "metadata": {
  "kernelspec": {
   "display_name": "Python 2",
   "language": "python",
   "name": "python2"
  },
  "language_info": {
   "codemirror_mode": {
    "name": "ipython",
    "version": 2
   },
   "file_extension": ".py",
   "mimetype": "text/x-python",
   "name": "python",
   "nbconvert_exporter": "python",
   "pygments_lexer": "ipython2",
   "version": "2.7.13"
  }
 },
 "nbformat": 4,
 "nbformat_minor": 2
}
