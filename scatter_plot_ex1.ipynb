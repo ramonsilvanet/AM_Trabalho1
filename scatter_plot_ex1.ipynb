{
 "cells": [
  {
   "cell_type": "code",
   "execution_count": 4,
   "metadata": {
    "collapsed": true
   },
   "outputs": [],
   "source": [
    "#importando bibliotecas necessárias\n",
    "import numpy as np\n",
    "import pandas as pandas\n",
    "import matplotlib.pyplot as plt"
   ]
  },
  {
   "cell_type": "code",
   "execution_count": 5,
   "metadata": {
    "collapsed": true
   },
   "outputs": [],
   "source": [
    "# lendo os dados do dataset\n",
    "dataframe = pandas.read_csv(\"data/ex1data1.txt\", header=None)\n",
    "dataset = dataframe.values\n",
    "\n",
    "#vetorizando os dados , para poder dar entrda na função de ComputarCusto\n",
    "x = np.array(dataset[:, 0:1])\n",
    "y = np.array(dataset[:, 1])"
   ]
  },
  {
   "cell_type": "code",
   "execution_count": 6,
   "metadata": {},
   "outputs": [
    {
     "data": {
      "image/png": "[encoded data removed]",
      "text/plain": [
       "<matplotlib.figure.Figure at 0x10f279ef0>"
      ]
     },
     "metadata": {},
     "output_type": "display_data"
    }
   ],
   "source": [
    "#gerando o gráfico de dispersão\n",
    "#para analise preliminar dos dados\n",
    "plt.scatter(x, y, s=20, alpha=0.5)\n",
    "plt.show()"
   ]
  },
  {
   "cell_type": "code",
   "execution_count": 14,
   "metadata": {
    "collapsed": true
   },
   "outputs": [],
   "source": [
    "import pandas as pandas\n",
    "\n",
    "def computarCusto(x, y, alpha = 0.01, convergencia = 0.01, max_iteracoes = 1000):\n",
    "    convergiu = False\n",
    "    iteracoes = 0\n",
    "\n",
    "    m = x.shape[0]\n",
    "\n",
    "    #calculando os thetas iniciais\n",
    "    th0 = 0\n",
    "    th1 = 0\n",
    "\n",
    "    #calculando o erro total, J(theta)\n",
    "    J = sum([(th0 + th1 * x[i] - y[i]) ** 2 for i in range(m)])\n",
    "\n",
    "    while not convergiu:\n",
    "        #atualizando o numero de iteraçoes\n",
    "        iteracoes += 1\n",
    "        \n",
    "        # para cada exemplo de treinamento, computar o gradiente (d/d_theta_j(theta)\n",
    "        grad0 = 1.0 / m * sum([(th0 + th1 * x[i] - y[i]) for i in range(m)])\n",
    "        grad1 = 1.0 / m * sum([(th0 + th1 * x[i] - y[i]) * x[i] for i in range(m)])\n",
    "\n",
    "        # atualizando os thteas temporarios theta_temp\n",
    "        temp0 = th0 - alpha * grad0\n",
    "        temp1 = th1 - alpha * grad1\n",
    "\n",
    "        #atualizando os thetas\n",
    "        th0 = temp0\n",
    "        th1 = temp1\n",
    "\n",
    "        # erro medio quadratico\n",
    "        erro = sum([(th0 + th1 * x[i] - y[i]) ** 2 for i in range(m)])\n",
    "\n",
    "        #verificando o criterio de convergencia\n",
    "        if abs(J - erro) <= convergencia:\n",
    "            print('Convergiu após', iteracoes, 'iterações !!!')\n",
    "            convergiu = True\n",
    "\n",
    "        #atualizando o erro (J)\n",
    "        J = erro\n",
    "\n",
    "        #segundo criterio de parada, maximo de iterações atingidas\n",
    "        if iteracoes == max_iteracoes:\n",
    "            print(\"Maximo de iteracoes atingidas\", max_iteracoes)\n",
    "            convergiu = True\n",
    "\n",
    "    return th0,th1"
   ]
  },
  {
   "cell_type": "code",
   "execution_count": 19,
   "metadata": {},
   "outputs": [
    {
     "name": "stdout",
     "output_type": "stream",
     "text": [
      "Convergiu após 1279 iterações !!!\n",
      "theta0 [-3.50021861] theta1 [ 1.15329512]\n"
     ]
    }
   ],
   "source": [
    "#executando o algoritmos de regressão linear\n",
    "th0, th1 = computarCusto(x, y, max_iteracoes = 10000)\n",
    "print(\"theta0\", th0, \"theta1\", th1)"
   ]
  },
  {
   "cell_type": "code",
   "execution_count": 21,
   "metadata": {},
   "outputs": [
    {
     "data": {
      "image/png": "[encoded data removed]",
      "text/plain": [
       "<matplotlib.figure.Figure at 0x111b158d0>"
      ]
     },
     "metadata": {},
     "output_type": "display_data"
    }
   ],
   "source": [
    "#tracando a linha de regressão linear sobre o gráfico\n",
    "plt.scatter(x, y, s=20, alpha=0.5)\n",
    "plt.plot(x, th1*x + th0, '-')\n",
    "plt.show()"
   ]
  }
 ],
 "metadata": {
  "kernelspec": {
   "display_name": "Python 3",
   "language": "python",
   "name": "python3"
  },
  "language_info": {
   "codemirror_mode": {
    "name": "ipython",
    "version": 3
   },
   "file_extension": ".py",
   "mimetype": "text/x-python",
   "name": "python",
   "nbconvert_exporter": "python",
   "pygments_lexer": "ipython3",
   "version": "3.6.2"
  }
 },
 "nbformat": 4,
 "nbformat_minor": 2
}
